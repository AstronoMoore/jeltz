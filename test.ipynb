{
 "cells": [
  {
   "cell_type": "code",
   "execution_count": 1,
   "metadata": {},
   "outputs": [],
   "source": [
    "import jeltz"
   ]
  },
  {
   "cell_type": "code",
   "execution_count": 2,
   "metadata": {},
   "outputs": [
    {
     "data": {
      "text/plain": [
       "['config.ini']"
      ]
     },
     "execution_count": 2,
     "metadata": {},
     "output_type": "execute_result"
    }
   ],
   "source": [
    "import configparser\n",
    "config = configparser.ConfigParser()\n",
    "config.read('config.ini')"
   ]
  },
  {
   "cell_type": "code",
   "execution_count": 4,
   "metadata": {},
   "outputs": [
    {
     "data": {
      "text/html": [
       "<div>\n",
       "<style scoped>\n",
       "    .dataframe tbody tr th:only-of-type {\n",
       "        vertical-align: middle;\n",
       "    }\n",
       "\n",
       "    .dataframe tbody tr th {\n",
       "        vertical-align: top;\n",
       "    }\n",
       "\n",
       "    .dataframe thead th {\n",
       "        text-align: right;\n",
       "    }\n",
       "</style>\n",
       "<table border=\"1\" class=\"dataframe\">\n",
       "  <thead>\n",
       "    <tr style=\"text-align: right;\">\n",
       "      <th></th>\n",
       "      <th>time</th>\n",
       "      <th>band</th>\n",
       "      <th>magnitude</th>\n",
       "      <th>e_magnitude</th>\n",
       "      <th>telescope</th>\n",
       "    </tr>\n",
       "  </thead>\n",
       "  <tbody>\n",
       "    <tr>\n",
       "      <th>0</th>\n",
       "      <td>59710.735870</td>\n",
       "      <td>G</td>\n",
       "      <td>14.610</td>\n",
       "      <td>0.010407</td>\n",
       "      <td>Gaia</td>\n",
       "    </tr>\n",
       "    <tr>\n",
       "      <th>1</th>\n",
       "      <td>59710.912040</td>\n",
       "      <td>G</td>\n",
       "      <td>14.600</td>\n",
       "      <td>0.010393</td>\n",
       "      <td>Gaia</td>\n",
       "    </tr>\n",
       "    <tr>\n",
       "      <th>2</th>\n",
       "      <td>59722.668110</td>\n",
       "      <td>G</td>\n",
       "      <td>14.850</td>\n",
       "      <td>0.010785</td>\n",
       "      <td>Gaia</td>\n",
       "    </tr>\n",
       "    <tr>\n",
       "      <th>3</th>\n",
       "      <td>59722.742130</td>\n",
       "      <td>G</td>\n",
       "      <td>14.860</td>\n",
       "      <td>0.010802</td>\n",
       "      <td>Gaia</td>\n",
       "    </tr>\n",
       "    <tr>\n",
       "      <th>4</th>\n",
       "      <td>59760.469730</td>\n",
       "      <td>G</td>\n",
       "      <td>14.670</td>\n",
       "      <td>0.010496</td>\n",
       "      <td>Gaia</td>\n",
       "    </tr>\n",
       "    <tr>\n",
       "      <th>...</th>\n",
       "      <td>...</td>\n",
       "      <td>...</td>\n",
       "      <td>...</td>\n",
       "      <td>...</td>\n",
       "      <td>...</td>\n",
       "    </tr>\n",
       "    <tr>\n",
       "      <th>284</th>\n",
       "      <td>60284.000747</td>\n",
       "      <td>w2</td>\n",
       "      <td>11.795</td>\n",
       "      <td>0.034000</td>\n",
       "      <td>NEOWISE</td>\n",
       "    </tr>\n",
       "    <tr>\n",
       "      <th>285</th>\n",
       "      <td>57375.786567</td>\n",
       "      <td>w2</td>\n",
       "      <td>12.584</td>\n",
       "      <td>0.101000</td>\n",
       "      <td>NEOWISE</td>\n",
       "    </tr>\n",
       "    <tr>\n",
       "      <th>286</th>\n",
       "      <td>57014.644361</td>\n",
       "      <td>w2</td>\n",
       "      <td>12.105</td>\n",
       "      <td>0.056000</td>\n",
       "      <td>NEOWISE</td>\n",
       "    </tr>\n",
       "    <tr>\n",
       "      <th>287</th>\n",
       "      <td>59390.111497</td>\n",
       "      <td>w2</td>\n",
       "      <td>12.093</td>\n",
       "      <td>0.040000</td>\n",
       "      <td>NEOWISE</td>\n",
       "    </tr>\n",
       "    <tr>\n",
       "      <th>288</th>\n",
       "      <td>60283.419449</td>\n",
       "      <td>w2</td>\n",
       "      <td>11.724</td>\n",
       "      <td>0.033000</td>\n",
       "      <td>NEOWISE</td>\n",
       "    </tr>\n",
       "  </tbody>\n",
       "</table>\n",
       "<p>289 rows × 5 columns</p>\n",
       "</div>"
      ],
      "text/plain": [
       "             time band  magnitude  e_magnitude telescope\n",
       "0    59710.735870    G     14.610     0.010407      Gaia\n",
       "1    59710.912040    G     14.600     0.010393      Gaia\n",
       "2    59722.668110    G     14.850     0.010785      Gaia\n",
       "3    59722.742130    G     14.860     0.010802      Gaia\n",
       "4    59760.469730    G     14.670     0.010496      Gaia\n",
       "..            ...  ...        ...          ...       ...\n",
       "284  60284.000747   w2     11.795     0.034000   NEOWISE\n",
       "285  57375.786567   w2     12.584     0.101000   NEOWISE\n",
       "286  57014.644361   w2     12.105     0.056000   NEOWISE\n",
       "287  59390.111497   w2     12.093     0.040000   NEOWISE\n",
       "288  60283.419449   w2     11.724     0.033000   NEOWISE\n",
       "\n",
       "[289 rows x 5 columns]"
      ]
     },
     "execution_count": 4,
     "metadata": {},
     "output_type": "execute_result"
    }
   ],
   "source": [
    "jeltz.marvin('2022jli')"
   ]
  },
  {
   "cell_type": "code",
   "execution_count": null,
   "metadata": {},
   "outputs": [],
   "source": []
  }
 ],
 "metadata": {
  "kernelspec": {
   "display_name": "jeltz",
   "language": "python",
   "name": "python3"
  },
  "language_info": {
   "codemirror_mode": {
    "name": "ipython",
    "version": 3
   },
   "file_extension": ".py",
   "mimetype": "text/x-python",
   "name": "python",
   "nbconvert_exporter": "python",
   "pygments_lexer": "ipython3",
   "version": "3.12.2"
  }
 },
 "nbformat": 4,
 "nbformat_minor": 2
}
